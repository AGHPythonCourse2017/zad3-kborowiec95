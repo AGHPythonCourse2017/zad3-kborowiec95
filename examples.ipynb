{
 "cells": [
  {
   "cell_type": "code",
   "execution_count": 1,
   "metadata": {},
   "outputs": [
    {
     "name": "stdout",
     "output_type": "stream",
     "text": [
      "Collecting git+https://github.com/AGHPythonCourse2017/zad3-kborowiec95\n",
      "  Cloning https://github.com/AGHPythonCourse2017/zad3-kborowiec95 to /tmp/pip-8e2ef2zf-build\n",
      "Installing collected packages: TruthChecker\n",
      "  Found existing installation: TruthChecker 1.0\n",
      "    Uninstalling TruthChecker-1.0:\n",
      "\u001b[31mException:\n",
      "Traceback (most recent call last):\n",
      "  File \"/usr/lib/python3.5/shutil.py\", line 538, in move\n",
      "    os.rename(src, real_dst)\n",
      "PermissionError: [Errno 13] Brak dostępu: '/usr/local/lib/python3.5/dist-packages/TruthChecker-1.0-py3.5.egg-info' -> '/tmp/pip-uha2td6m-uninstall/usr/local/lib/python3.5/dist-packages/TruthChecker-1.0-py3.5.egg-info'\n",
      "\n",
      "During handling of the above exception, another exception occurred:\n",
      "\n",
      "Traceback (most recent call last):\n",
      "  File \"/usr/local/lib/python3.5/dist-packages/pip/basecommand.py\", line 215, in main\n",
      "    status = self.run(options, args)\n",
      "  File \"/usr/local/lib/python3.5/dist-packages/pip/commands/install.py\", line 342, in run\n",
      "    prefix=options.prefix_path,\n",
      "  File \"/usr/local/lib/python3.5/dist-packages/pip/req/req_set.py\", line 778, in install\n",
      "    requirement.uninstall(auto_confirm=True)\n",
      "  File \"/usr/local/lib/python3.5/dist-packages/pip/req/req_install.py\", line 754, in uninstall\n",
      "    paths_to_remove.remove(auto_confirm)\n",
      "  File \"/usr/local/lib/python3.5/dist-packages/pip/req/req_uninstall.py\", line 115, in remove\n",
      "    renames(path, new_path)\n",
      "  File \"/usr/local/lib/python3.5/dist-packages/pip/utils/__init__.py\", line 267, in renames\n",
      "    shutil.move(old, new)\n",
      "  File \"/usr/lib/python3.5/shutil.py\", line 550, in move\n",
      "    rmtree(src)\n",
      "  File \"/usr/lib/python3.5/shutil.py\", line 474, in rmtree\n",
      "    _rmtree_safe_fd(fd, path, onerror)\n",
      "  File \"/usr/lib/python3.5/shutil.py\", line 432, in _rmtree_safe_fd\n",
      "    onerror(os.unlink, fullname, sys.exc_info())\n",
      "  File \"/usr/lib/python3.5/shutil.py\", line 430, in _rmtree_safe_fd\n",
      "    os.unlink(name, dir_fd=topfd)\n",
      "PermissionError: [Errno 13] Brak dostępu: 'installed-files.txt'\u001b[0m\n"
     ]
    }
   ],
   "source": [
    "!pip3 install --upgrade git+https://github.com/AGHPythonCourse2017/zad3-kborowiec95"
   ]
  },
  {
   "cell_type": "code",
   "execution_count": 2,
   "metadata": {
    "collapsed": true
   },
   "outputs": [],
   "source": [
    "from TruthChecker.Main import run"
   ]
  },
  {
   "cell_type": "code",
   "execution_count": 7,
   "metadata": {
    "collapsed": true
   },
   "outputs": [],
   "source": [
    "import sys"
   ]
  },
  {
   "cell_type": "code",
   "execution_count": 8,
   "metadata": {},
   "outputs": [
    {
     "name": "stdout",
     "output_type": "stream",
     "text": [
      "Pope is dead\n",
      "vs\n",
      "Pope is not dead\n",
      "----------------------------\n",
      "Sentence : Pope is dead\n",
      "True  => 58.59%\n",
      "False => 41.41%\n",
      "Final answer => True\n"
     ]
    }
   ],
   "source": [
    "run(\"Pope is dead\")"
   ]
  },
  {
   "cell_type": "code",
   "execution_count": 10,
   "metadata": {},
   "outputs": [
    {
     "name": "stdout",
     "output_type": "stream",
     "text": [
      "Columbus has discovered America\n",
      "vs\n",
      "Columbus has not discovered America\n",
      "----------------------------\n",
      "Sentence : Columbus has discovered America\n",
      "True  => 51.47%\n",
      "False => 48.53%\n",
      "Final answer => True\n"
     ]
    }
   ],
   "source": [
    "run(\"Columbus has discovered America\")"
   ]
  },
  {
   "cell_type": "code",
   "execution_count": 11,
   "metadata": {},
   "outputs": [
    {
     "name": "stdout",
     "output_type": "stream",
     "text": [
      "Columbus has discovered India\n",
      "vs\n",
      "Columbus has not discovered India\n",
      "----------------------------\n",
      "Sentence : Columbus has discovered India\n",
      "True  => 43.69%\n",
      "False => 56.31%\n",
      "Final answer => False\n"
     ]
    }
   ],
   "source": [
    "run(\"Columbus has discovered India\")"
   ]
  },
  {
   "cell_type": "code",
   "execution_count": 12,
   "metadata": {},
   "outputs": [
    {
     "name": "stdout",
     "output_type": "stream",
     "text": [
      "Vasco Da Gama has discovered India\n",
      "vs\n",
      "Vasco Da Gama has not discovered India\n",
      "----------------------------\n",
      "Sentence : Vasco Da Gama has discovered India\n",
      "True  => 56.17%\n",
      "False => 43.83%\n",
      "Final answer => True\n"
     ]
    }
   ],
   "source": [
    "run(\"Vasco Da Gama has discovered India\")"
   ]
  },
  {
   "cell_type": "code",
   "execution_count": 13,
   "metadata": {},
   "outputs": [
    {
     "name": "stdout",
     "output_type": "stream",
     "text": [
      "I am in Cracow\n",
      "vs\n",
      "I am not in Cracow\n",
      "----------------------------\n",
      "Sentence : I am in Cracow\n",
      "True  => 61.79%\n",
      "False => 38.21%\n",
      "Final answer => True\n"
     ]
    }
   ],
   "source": [
    "run(\"I am in Cracow\")"
   ]
  },
  {
   "cell_type": "code",
   "execution_count": null,
   "metadata": {
    "collapsed": true
   },
   "outputs": [],
   "source": []
  }
 ],
 "metadata": {
  "kernelspec": {
   "display_name": "Python 3",
   "language": "python",
   "name": "python3"
  },
  "language_info": {
   "codemirror_mode": {
    "name": "ipython",
    "version": 3
   },
   "file_extension": ".py",
   "mimetype": "text/x-python",
   "name": "python",
   "nbconvert_exporter": "python",
   "pygments_lexer": "ipython3",
   "version": "3.5.2"
  }
 },
 "nbformat": 4,
 "nbformat_minor": 2
}
